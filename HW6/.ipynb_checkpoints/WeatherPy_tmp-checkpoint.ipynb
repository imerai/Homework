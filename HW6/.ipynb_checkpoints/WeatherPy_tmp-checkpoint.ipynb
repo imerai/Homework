{
 "cells": [
  {
   "cell_type": "code",
   "execution_count": 1,
   "metadata": {
    "scrolled": true
   },
   "outputs": [],
   "source": [
    "# Dependencies and Setup\n",
    "import matplotlib.pyplot as plt\n",
    "import pandas as pd\n",
    "import numpy as np\n",
    "import time\n",
    "import seaborn\n",
    "import requests as req\n",
    "import json\n",
    "import random\n",
    "import datetime\n",
    "import csv\n",
    "import os\n",
    "\n",
    "# Import API key\n",
    "import api_keys\n",
    "\n",
    "# Incorporated citipy to determine city based on latitude and longitude\n",
    "from citipy import citipy\n",
    "\n",
    "# Output File (CSV)\n",
    "output_data_file = \"output_data/cities.csv\"\n",
    "\n",
    "# Range of latitudes and longitudes\n",
    "lat_range = (-90, 90)\n",
    "lng_range = (-180, 180)"
   ]
  },
  {
   "cell_type": "code",
   "execution_count": null,
   "metadata": {},
   "outputs": [],
   "source": [
    "# # Save config information.\n",
    "# #api_key = \"25bc90a1196e6f153eece0bc0b0fc9eb\" #Amed's key\n",
    "# api_key = \"924783bda048569443e49dd6a03e5591\"\n",
    "# url = \"http://api.openweathermap.org/data/2.5/weather?\"\n",
    "# units = \"imperial\" #Fahrenheit"
   ]
  },
  {
   "cell_type": "code",
   "execution_count": null,
   "metadata": {},
   "outputs": [],
   "source": [
    "# # grab random coordinates an find the closest cities\n",
    "# sample_size = 500\n",
    "\n",
    "# coordinates = [((random.randint(-90, 90)),(random.randint(-180, 180))) for _ in range (sample_size)]\n",
    "\n",
    "# city_list = []\n",
    "\n",
    "# cities = []\n",
    "# for coordinate_pair in coordinates:\n",
    "#     lat, lon = coordinate_pair\n",
    "#     cities.append(citipy.nearest_city(lat, lon))\n",
    "#     city_names = citipy.nearest_city(lat, lon).city_name\n",
    "\n",
    "# #create a list of random cities    \n",
    "#     city_list.append(city_names)\n",
    "\n",
    "# #city_list"
   ]
  },
  {
   "cell_type": "markdown",
   "metadata": {},
   "source": [
    "## Generate Cities List"
   ]
  },
  {
   "cell_type": "code",
   "execution_count": 25,
   "metadata": {},
   "outputs": [
    {
     "name": "stdout",
     "output_type": "stream",
     "text": [
      "['warrington', 'thompson', 'slave lake', 'karamea', 'tasiilaq']\n"
     ]
    }
   ],
   "source": [
    "# List for holding lat_lngs and cities\n",
    "lat_lngs = []\n",
    "cities = []\n",
    "count=4\n",
    "# Create a set of random lat and lng combinations\n",
    "lats = np.random.uniform(low=-90.000, high=90.000, size=1500)\n",
    "lngs = np.random.uniform(low=-180.000, high=180.000, size=1500)\n",
    "lat_lngs = zip(lats, lngs)\n",
    "\n",
    "# Identify nearest city for each lat, lng combination\n",
    "for lat_lng in lat_lngs:\n",
    "    city = citipy.nearest_city(lat_lng[0], lat_lng[1]).city_name\n",
    "    \n",
    "    # If the city is unique, then add it to a our cities list\n",
    "    if city not in cities:\n",
    "        if count >= 0:\n",
    "            cities.append(city)\n",
    "            count = count-1\n",
    "\n",
    "# Print the city count to confirm sufficient count\n",
    "print(cities)"
   ]
  },
  {
   "cell_type": "markdown",
   "metadata": {},
   "source": [
    "## Perform API Calls"
   ]
  },
  {
   "cell_type": "code",
   "execution_count": 22,
   "metadata": {},
   "outputs": [
    {
     "name": "stdout",
     "output_type": "stream",
     "text": [
      "----------------------\n",
      "Now logging city # 0\n",
      "http://api.openweathermap.org/data/2.5/weather?units=Imperial&APPID=ce852ed04ba4418888349b5b5a2d03a7barrow\n",
      "Skipping this...\n",
      "----------------------\n",
      "Now logging city # 0\n",
      "http://api.openweathermap.org/data/2.5/weather?units=Imperial&APPID=ce852ed04ba4418888349b5b5a2d03a7noumea\n",
      "Skipping this...\n",
      "----------------------\n",
      "Now logging city # 0\n",
      "http://api.openweathermap.org/data/2.5/weather?units=Imperial&APPID=ce852ed04ba4418888349b5b5a2d03a7rikitea\n",
      "Skipping this...\n",
      "----------------------\n",
      "Now logging city # 0\n",
      "http://api.openweathermap.org/data/2.5/weather?units=Imperial&APPID=ce852ed04ba4418888349b5b5a2d03a7alice springs\n",
      "Skipping this...\n",
      "----------------------\n",
      "Now logging city # 0\n",
      "http://api.openweathermap.org/data/2.5/weather?units=Imperial&APPID=ce852ed04ba4418888349b5b5a2d03a7taolanaro\n",
      "Skipping this...\n"
     ]
    },
    {
     "ename": "ValueError",
     "evalue": "arrays must all be same length",
     "output_type": "error",
     "traceback": [
      "\u001b[1;31m---------------------------------------------------------------------------\u001b[0m",
      "\u001b[1;31mValueError\u001b[0m                                Traceback (most recent call last)",
      "\u001b[1;32m<ipython-input-22-279223f100c0>\u001b[0m in \u001b[0;36m<module>\u001b[1;34m()\u001b[0m\n\u001b[0;32m     75\u001b[0m                 }\n\u001b[0;32m     76\u001b[0m \u001b[1;33m\u001b[0m\u001b[0m\n\u001b[1;32m---> 77\u001b[1;33m \u001b[0mweather_data\u001b[0m \u001b[1;33m=\u001b[0m \u001b[0mpd\u001b[0m\u001b[1;33m.\u001b[0m\u001b[0mDataFrame\u001b[0m\u001b[1;33m(\u001b[0m\u001b[0mweather_data\u001b[0m\u001b[1;33m)\u001b[0m\u001b[1;33m\u001b[0m\u001b[0m\n\u001b[0m\u001b[0;32m     78\u001b[0m \u001b[1;33m\u001b[0m\u001b[0m\n\u001b[0;32m     79\u001b[0m \u001b[0mdate_stamp\u001b[0m \u001b[1;33m=\u001b[0m \u001b[0mstr\u001b[0m\u001b[1;33m(\u001b[0m\u001b[0mweather_data\u001b[0m\u001b[1;33m.\u001b[0m\u001b[0miloc\u001b[0m\u001b[1;33m[\u001b[0m\u001b[1;36m0\u001b[0m\u001b[1;33m,\u001b[0m\u001b[1;36m3\u001b[0m\u001b[1;33m]\u001b[0m\u001b[1;33m)\u001b[0m\u001b[1;33m\u001b[0m\u001b[0m\n",
      "\u001b[1;32m~\\Anaconda3\\envs\\PythonData\\lib\\site-packages\\pandas\\core\\frame.py\u001b[0m in \u001b[0;36m__init__\u001b[1;34m(self, data, index, columns, dtype, copy)\u001b[0m\n\u001b[0;32m    346\u001b[0m                                  dtype=dtype, copy=copy)\n\u001b[0;32m    347\u001b[0m         \u001b[1;32melif\u001b[0m \u001b[0misinstance\u001b[0m\u001b[1;33m(\u001b[0m\u001b[0mdata\u001b[0m\u001b[1;33m,\u001b[0m \u001b[0mdict\u001b[0m\u001b[1;33m)\u001b[0m\u001b[1;33m:\u001b[0m\u001b[1;33m\u001b[0m\u001b[0m\n\u001b[1;32m--> 348\u001b[1;33m             \u001b[0mmgr\u001b[0m \u001b[1;33m=\u001b[0m \u001b[0mself\u001b[0m\u001b[1;33m.\u001b[0m\u001b[0m_init_dict\u001b[0m\u001b[1;33m(\u001b[0m\u001b[0mdata\u001b[0m\u001b[1;33m,\u001b[0m \u001b[0mindex\u001b[0m\u001b[1;33m,\u001b[0m \u001b[0mcolumns\u001b[0m\u001b[1;33m,\u001b[0m \u001b[0mdtype\u001b[0m\u001b[1;33m=\u001b[0m\u001b[0mdtype\u001b[0m\u001b[1;33m)\u001b[0m\u001b[1;33m\u001b[0m\u001b[0m\n\u001b[0m\u001b[0;32m    349\u001b[0m         \u001b[1;32melif\u001b[0m \u001b[0misinstance\u001b[0m\u001b[1;33m(\u001b[0m\u001b[0mdata\u001b[0m\u001b[1;33m,\u001b[0m \u001b[0mma\u001b[0m\u001b[1;33m.\u001b[0m\u001b[0mMaskedArray\u001b[0m\u001b[1;33m)\u001b[0m\u001b[1;33m:\u001b[0m\u001b[1;33m\u001b[0m\u001b[0m\n\u001b[0;32m    350\u001b[0m             \u001b[1;32mimport\u001b[0m \u001b[0mnumpy\u001b[0m\u001b[1;33m.\u001b[0m\u001b[0mma\u001b[0m\u001b[1;33m.\u001b[0m\u001b[0mmrecords\u001b[0m \u001b[1;32mas\u001b[0m \u001b[0mmrecords\u001b[0m\u001b[1;33m\u001b[0m\u001b[0m\n",
      "\u001b[1;32m~\\Anaconda3\\envs\\PythonData\\lib\\site-packages\\pandas\\core\\frame.py\u001b[0m in \u001b[0;36m_init_dict\u001b[1;34m(self, data, index, columns, dtype)\u001b[0m\n\u001b[0;32m    457\u001b[0m             \u001b[0marrays\u001b[0m \u001b[1;33m=\u001b[0m \u001b[1;33m[\u001b[0m\u001b[0mdata\u001b[0m\u001b[1;33m[\u001b[0m\u001b[0mk\u001b[0m\u001b[1;33m]\u001b[0m \u001b[1;32mfor\u001b[0m \u001b[0mk\u001b[0m \u001b[1;32min\u001b[0m \u001b[0mkeys\u001b[0m\u001b[1;33m]\u001b[0m\u001b[1;33m\u001b[0m\u001b[0m\n\u001b[0;32m    458\u001b[0m \u001b[1;33m\u001b[0m\u001b[0m\n\u001b[1;32m--> 459\u001b[1;33m         \u001b[1;32mreturn\u001b[0m \u001b[0m_arrays_to_mgr\u001b[0m\u001b[1;33m(\u001b[0m\u001b[0marrays\u001b[0m\u001b[1;33m,\u001b[0m \u001b[0mdata_names\u001b[0m\u001b[1;33m,\u001b[0m \u001b[0mindex\u001b[0m\u001b[1;33m,\u001b[0m \u001b[0mcolumns\u001b[0m\u001b[1;33m,\u001b[0m \u001b[0mdtype\u001b[0m\u001b[1;33m=\u001b[0m\u001b[0mdtype\u001b[0m\u001b[1;33m)\u001b[0m\u001b[1;33m\u001b[0m\u001b[0m\n\u001b[0m\u001b[0;32m    460\u001b[0m \u001b[1;33m\u001b[0m\u001b[0m\n\u001b[0;32m    461\u001b[0m     \u001b[1;32mdef\u001b[0m \u001b[0m_init_ndarray\u001b[0m\u001b[1;33m(\u001b[0m\u001b[0mself\u001b[0m\u001b[1;33m,\u001b[0m \u001b[0mvalues\u001b[0m\u001b[1;33m,\u001b[0m \u001b[0mindex\u001b[0m\u001b[1;33m,\u001b[0m \u001b[0mcolumns\u001b[0m\u001b[1;33m,\u001b[0m \u001b[0mdtype\u001b[0m\u001b[1;33m=\u001b[0m\u001b[1;32mNone\u001b[0m\u001b[1;33m,\u001b[0m \u001b[0mcopy\u001b[0m\u001b[1;33m=\u001b[0m\u001b[1;32mFalse\u001b[0m\u001b[1;33m)\u001b[0m\u001b[1;33m:\u001b[0m\u001b[1;33m\u001b[0m\u001b[0m\n",
      "\u001b[1;32m~\\Anaconda3\\envs\\PythonData\\lib\\site-packages\\pandas\\core\\frame.py\u001b[0m in \u001b[0;36m_arrays_to_mgr\u001b[1;34m(arrays, arr_names, index, columns, dtype)\u001b[0m\n\u001b[0;32m   7313\u001b[0m     \u001b[1;31m# figure out the index, if necessary\u001b[0m\u001b[1;33m\u001b[0m\u001b[1;33m\u001b[0m\u001b[0m\n\u001b[0;32m   7314\u001b[0m     \u001b[1;32mif\u001b[0m \u001b[0mindex\u001b[0m \u001b[1;32mis\u001b[0m \u001b[1;32mNone\u001b[0m\u001b[1;33m:\u001b[0m\u001b[1;33m\u001b[0m\u001b[0m\n\u001b[1;32m-> 7315\u001b[1;33m         \u001b[0mindex\u001b[0m \u001b[1;33m=\u001b[0m \u001b[0mextract_index\u001b[0m\u001b[1;33m(\u001b[0m\u001b[0marrays\u001b[0m\u001b[1;33m)\u001b[0m\u001b[1;33m\u001b[0m\u001b[0m\n\u001b[0m\u001b[0;32m   7316\u001b[0m \u001b[1;33m\u001b[0m\u001b[0m\n\u001b[0;32m   7317\u001b[0m     \u001b[1;31m# don't force copy because getting jammed in an ndarray anyway\u001b[0m\u001b[1;33m\u001b[0m\u001b[1;33m\u001b[0m\u001b[0m\n",
      "\u001b[1;32m~\\Anaconda3\\envs\\PythonData\\lib\\site-packages\\pandas\\core\\frame.py\u001b[0m in \u001b[0;36mextract_index\u001b[1;34m(data)\u001b[0m\n\u001b[0;32m   7359\u001b[0m             \u001b[0mlengths\u001b[0m \u001b[1;33m=\u001b[0m \u001b[0mlist\u001b[0m\u001b[1;33m(\u001b[0m\u001b[0mset\u001b[0m\u001b[1;33m(\u001b[0m\u001b[0mraw_lengths\u001b[0m\u001b[1;33m)\u001b[0m\u001b[1;33m)\u001b[0m\u001b[1;33m\u001b[0m\u001b[0m\n\u001b[0;32m   7360\u001b[0m             \u001b[1;32mif\u001b[0m \u001b[0mlen\u001b[0m\u001b[1;33m(\u001b[0m\u001b[0mlengths\u001b[0m\u001b[1;33m)\u001b[0m \u001b[1;33m>\u001b[0m \u001b[1;36m1\u001b[0m\u001b[1;33m:\u001b[0m\u001b[1;33m\u001b[0m\u001b[0m\n\u001b[1;32m-> 7361\u001b[1;33m                 \u001b[1;32mraise\u001b[0m \u001b[0mValueError\u001b[0m\u001b[1;33m(\u001b[0m\u001b[1;34m'arrays must all be same length'\u001b[0m\u001b[1;33m)\u001b[0m\u001b[1;33m\u001b[0m\u001b[0m\n\u001b[0m\u001b[0;32m   7362\u001b[0m \u001b[1;33m\u001b[0m\u001b[0m\n\u001b[0;32m   7363\u001b[0m             \u001b[1;32mif\u001b[0m \u001b[0mhave_dicts\u001b[0m\u001b[1;33m:\u001b[0m\u001b[1;33m\u001b[0m\u001b[0m\n",
      "\u001b[1;31mValueError\u001b[0m: arrays must all be same length"
     ]
    }
   ],
   "source": [
    "# OpenWeatherMap API Key\n",
    "api_key = api_keys.api_key\n",
    "\n",
    "# Starting URL for Weather Map API Call\n",
    "url = \"http://api.openweathermap.org/data/2.5/weather?units=Imperial&APPID=\" + api_key \n",
    "######\n",
    "# # Build partial query URL\n",
    "# query_url = url + \"appid=\" + api_key + \"&units=\" + units + \"&q=\"\n",
    "\n",
    "# List for holding the latitude and temperature\n",
    "city_data = []\n",
    "cloudiness_data = []\n",
    "country_data = []\n",
    "# date_data = []\n",
    "humidity_data = []\n",
    "lat_data = []\n",
    "lon_data = []\n",
    "max_temp_data = []\n",
    "wind_speed_data = []\n",
    "\n",
    "counter = 0\n",
    "\n",
    "#clear/ prep csv file for query log\n",
    "output_path = os.path.join(\"Weather_Query_log\")\n",
    "with open(output_path, 'w', newline='') as csvfile:\n",
    "            csvwriter = csv.writer(csvfile, delimiter=',')\n",
    "for city in cities:\n",
    "    \n",
    "    try:\n",
    "        print(\"----------------------\")\n",
    "        print(\"Now logging city # \" + str(counter))\n",
    "        print(url + city)\n",
    "        response = req.get(url + city).json()\n",
    "        \n",
    "        # Specify the file to write to\n",
    "        output_path = os.path.join(\"Weather_Query_log\")\n",
    "\n",
    "        # Open the file using \"write\" mode. Specify the variable to hold the contents\n",
    "        with open(output_path, 'a', newline='') as csvfile:\n",
    "\n",
    "            # Initialize csv.writer\n",
    "            csvwriter = csv.writer(csvfile, delimiter=',')\n",
    "\n",
    "            # Write the first row (column headers)\n",
    "            csvwriter.writerow(['----------------------'])\n",
    "            csvwriter.writerow([\"Now logging city # \" + str(counter)])\n",
    "            csvwriter.writerow([url + city]) \n",
    "\n",
    "            \n",
    "        city_data.append(response.get(\"name\"))\n",
    "        cloudiness_data.append(response.get(\"clouds\").get(\"all\"))\n",
    "        country_data.append(response.get(\"sys\").get(\"country\"))\n",
    "#         date_data.append(response.get(\"dt\"))\n",
    "        humidity_data.append(response.get(\"main\").get(\"humidity\"))\n",
    "        lat_data.append(response.get(\"coord\").get(\"lat\"))\n",
    "        lon_data.append(response.get(\"coord\").get(\"lon\"))\n",
    "        max_temp_data.append(response.get(\"main\").get(\"temp_max\"))\n",
    "        wind_speed_data.append(response.get(\"wind\").get(\"speed\"))\n",
    "\n",
    "        counter = counter + 1\n",
    "        if counter % 59 == 0:\n",
    "            time.sleep(60)\n",
    "    except:\n",
    "        print(\"Skipping this...\")\n",
    "\n",
    "weather_data = {\"City\" : city_data,\n",
    "                \"Cloudiness\": cloudiness_data,\n",
    "                \"Country\": country_data,\n",
    "                \"Humidity\": humidity_data,\n",
    "                \"Lat\": lat_data,\n",
    "                \"Lng\": lon_data,\n",
    "                \"Max Temp\": max_temp_data,\n",
    "                \"Wind Speed\": wind_speed_data,\n",
    "                }\n",
    "\n",
    "weather_data = pd.DataFrame(weather_data)\n",
    "\n",
    "date_stamp = str(weather_data.iloc[0,3])\n",
    "\n",
    "date_stamp = datetime.datetime.fromtimestamp(int(date_stamp)).strftime('%m-%d-%Y')\n",
    "\n",
    "weather_data.count()\n"
   ]
  },
  {
   "cell_type": "code",
   "execution_count": 4,
   "metadata": {},
   "outputs": [],
   "source": [
    "# weather_dataweather .head()"
   ]
  },
  {
   "cell_type": "markdown",
   "metadata": {},
   "source": [
    "### Latitude vs Temperature Plot"
   ]
  },
  {
   "cell_type": "code",
   "execution_count": 5,
   "metadata": {},
   "outputs": [],
   "source": [
    "# # Build a scatter plot for each data type\n",
    "# plt.scatter(weather_data[\"Lat\"], weather_data[\"Max Temp\"], marker=\"o\")\n",
    "\n",
    "# # Incorporate the other graph properties\n",
    "# plt.title(\"City Latitude vs. Max Temperature\" + \" \" + date_stamp)\n",
    "# plt.ylabel(\"Max Temperature F\")\n",
    "# plt.xlabel(\"Latitude\")\n",
    "# plt.grid(True)\n",
    "\n",
    "# # Save the figure\n",
    "# plt.savefig(\"City Latitude vs. Max Temperature.png\")\n",
    "\n",
    "# # Show plot\n",
    "# plt.show()"
   ]
  },
  {
   "cell_type": "markdown",
   "metadata": {},
   "source": [
    "### Latitude vs. Humidity Plot"
   ]
  },
  {
   "cell_type": "code",
   "execution_count": 6,
   "metadata": {},
   "outputs": [],
   "source": [
    "# # Build a scatter plot for each data type\n",
    "# plt.scatter(weather_data[\"Lat\"], weather_data[\"Humidity\"], marker=\"o\")\n",
    "\n",
    "# # Incorporate the other graph properties\n",
    "# plt.title(\"City Latitude vs. Humidity Plot\" + \" \" + date_stamp)\n",
    "# plt.ylabel(\"Humidity (%)\")\n",
    "# plt.xlabel(\"Latitude\")\n",
    "# plt.grid(True)\n",
    "\n",
    "# # Save the figure\n",
    "# plt.savefig(\"City Latitude vs. Humidity Plot.png\")\n",
    "\n",
    "# # Show plot\n",
    "# plt.show()"
   ]
  },
  {
   "cell_type": "markdown",
   "metadata": {},
   "source": [
    "### Latitude vs. Cloudiness Plot"
   ]
  },
  {
   "cell_type": "code",
   "execution_count": 7,
   "metadata": {},
   "outputs": [],
   "source": [
    "# # Build a scatter plot for atitude vs. Cloudiness\n",
    "# plt.scatter(weather_data[\"Lat\"], weather_data[\"Cloudiness\"], marker=\"o\")\n",
    "\n",
    "# # Incorporate the other graph properties\n",
    "# plt.title(\"City Latitude vs. Cloudiness\" + \" \" + date_stamp)\n",
    "# plt.ylabel(\"Cloudiness (%)\")\n",
    "# plt.xlabel(\"Latitude\")\n",
    "# plt.grid(True)\n",
    "\n",
    "# # Save the figure\n",
    "# plt.savefig(\"City Latitude vs. Cloudiness.png\")\n",
    "\n",
    "# # Show plot\n",
    "# plt.show()"
   ]
  },
  {
   "cell_type": "markdown",
   "metadata": {},
   "source": [
    "### Latitude vs. Wind Speed Plot"
   ]
  },
  {
   "cell_type": "code",
   "execution_count": 8,
   "metadata": {},
   "outputs": [],
   "source": [
    "# # Build a scatter plot for Latitude vs. Wind Speed\n",
    "# plt.scatter(weather_data[\"Lat\"], weather_data[\"Wind Speed\"], marker=\"o\")\n",
    "\n",
    "# # Incorporate the other graph properties\n",
    "# plt.title(\"City Latitude vs. Wind Speed\" + \" \" + date_stamp)\n",
    "# plt.ylabel(\"Wind Speed\")\n",
    "# plt.xlabel(\"Latitude\")\n",
    "# plt.grid(True)\n",
    "\n",
    "# # Save the figure\n",
    "# plt.savefig(\"City Latitude vs. Wind Speed.png\")\n",
    "\n",
    "# # Show plot\n",
    "# plt.show()"
   ]
  },
  {
   "cell_type": "markdown",
   "metadata": {},
   "source": [
    "### Data Source Map"
   ]
  },
  {
   "cell_type": "code",
   "execution_count": 9,
   "metadata": {},
   "outputs": [],
   "source": [
    "# # Build a scatter plot for Latitude vs. Wind Speed# Build  \n",
    "# plt.scatter(weather_data[\"Lng\"], weather_data[\"Lat\"], marker=\"o\")\n",
    "\n",
    "# # Incorporate the other graph properties\n",
    "# plt.title(\"Data Source Map\" + \" \" + date_stamp)\n",
    "# plt.ylabel(\"Latitude\")\n",
    "# plt.xlabel(\"Longitude\")\n",
    "# plt.grid(True)\n",
    "\n",
    "# # Save the figure\n",
    "# plt.savefig(\"Data Source Map.png\")\n",
    "\n",
    "# # Show plot\n",
    "# plt.show()"
   ]
  }
 ],
 "metadata": {
  "anaconda-cloud": {},
  "kernelspec": {
   "display_name": "Python 3",
   "language": "python",
   "name": "python3"
  },
  "language_info": {
   "codemirror_mode": {
    "name": "ipython",
    "version": 3
   },
   "file_extension": ".py",
   "mimetype": "text/x-python",
   "name": "python",
   "nbconvert_exporter": "python",
   "pygments_lexer": "ipython3",
   "version": "3.6.5"
  }
 },
 "nbformat": 4,
 "nbformat_minor": 1
}
